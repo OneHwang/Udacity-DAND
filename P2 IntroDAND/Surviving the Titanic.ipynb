{
 "cells": [
  {
   "cell_type": "markdown",
   "metadata": {},
   "source": [
    "# Surviving the Titanic: the Role of Gatekeepers and Beating the Odds"
   ]
  },
  {
   "cell_type": "markdown",
   "metadata": {},
   "source": [
    "Prepared by One Hwang"
   ]
  },
  {
   "cell_type": "markdown",
   "metadata": {},
   "source": [
    "This python notebook serves to fulfill the requirements of 'P2: Investigate a Dataset' for Udacity's Data Analysis program. It analyzes the Titanic's passenger information to characterize the survivors of the RMS Titanic. \n",
    "\n",
    "Who survived the Titanic? The ship's officers served as gatekeepers to lifeboats. They followed the captain's instructions to prioritize women, children, and higher class passengers. Thus, passengers had a greater chance of survival if they belonged to the right classifications. However, each gatekeeper interpreted the captain's instructions differently and had varying levels of skill in handing lifeboats. Moreover, could the fittest individuals push their way through crowds to reach the boats? Assertiveness and social support or discouragement from family and other passengers may have also influenced individual abilities to hang onto life.\n",
    "\n",
    "This notebook aims to answer, **\"How much did gatekeepers determine who survived? Who beat the odds to survive the Titanic?\"**"
   ]
  },
  {
   "cell_type": "code",
   "execution_count": 1,
   "metadata": {
    "collapsed": false,
    "scrolled": true
   },
   "outputs": [
    {
     "name": "stderr",
     "output_type": "stream",
     "text": [
      "/Users/Oneironaut/anaconda2/envs/DAND/lib/python2.7/site-packages/matplotlib/font_manager.py:273: UserWarning: Matplotlib is building the font cache using fc-list. This may take a moment.\n",
      "  warnings.warn('Matplotlib is building the font cache using fc-list. This may take a moment.')\n"
     ]
    }
   ],
   "source": [
    "import numpy as np\n",
    "import pandas as pd\n",
    "import matplotlib.pyplot as plt\n",
    "import seaborn as sns"
   ]
  },
  {
   "cell_type": "markdown",
   "metadata": {},
   "source": [
    "## Data Wrangling"
   ]
  },
  {
   "cell_type": "markdown",
   "metadata": {},
   "source": [
    "### Data-Acquisition"
   ]
  },
  {
   "cell_type": "markdown",
   "metadata": {},
   "source": [
    "Data were acquired from [Kaggle's 'Titanic: Machine Learning from Disaster'](https://www.kaggle.com/c/titanic/data), which provides records on about 40% of the passengers aboard the Titanic. Moreover, the ship layout and location of cabins was obtained from [Encyclopedia Titanica](https://www.encyclopedia-titanica.org/titanic-deckplans/)"
   ]
  },
  {
   "cell_type": "code",
   "execution_count": 2,
   "metadata": {
    "collapsed": false
   },
   "outputs": [],
   "source": [
    "titanic_raw_df = pd.read_csv('titanic-data.csv')"
   ]
  },
  {
   "cell_type": "code",
   "execution_count": 3,
   "metadata": {
    "collapsed": false,
    "scrolled": true
   },
   "outputs": [
    {
     "data": {
      "text/html": [
       "<div>\n",
       "<table border=\"1\" class=\"dataframe\">\n",
       "  <thead>\n",
       "    <tr style=\"text-align: right;\">\n",
       "      <th></th>\n",
       "      <th>PassengerId</th>\n",
       "      <th>Survived</th>\n",
       "      <th>Pclass</th>\n",
       "      <th>Name</th>\n",
       "      <th>Sex</th>\n",
       "      <th>Age</th>\n",
       "      <th>SibSp</th>\n",
       "      <th>Parch</th>\n",
       "      <th>Ticket</th>\n",
       "      <th>Fare</th>\n",
       "      <th>Cabin</th>\n",
       "      <th>Embarked</th>\n",
       "    </tr>\n",
       "  </thead>\n",
       "  <tbody>\n",
       "    <tr>\n",
       "      <th>0</th>\n",
       "      <td>1</td>\n",
       "      <td>0</td>\n",
       "      <td>3</td>\n",
       "      <td>Braund, Mr. Owen Harris</td>\n",
       "      <td>male</td>\n",
       "      <td>22.0</td>\n",
       "      <td>1</td>\n",
       "      <td>0</td>\n",
       "      <td>A/5 21171</td>\n",
       "      <td>7.2500</td>\n",
       "      <td>NaN</td>\n",
       "      <td>S</td>\n",
       "    </tr>\n",
       "    <tr>\n",
       "      <th>1</th>\n",
       "      <td>2</td>\n",
       "      <td>1</td>\n",
       "      <td>1</td>\n",
       "      <td>Cumings, Mrs. John Bradley (Florence Briggs Th...</td>\n",
       "      <td>female</td>\n",
       "      <td>38.0</td>\n",
       "      <td>1</td>\n",
       "      <td>0</td>\n",
       "      <td>PC 17599</td>\n",
       "      <td>71.2833</td>\n",
       "      <td>C85</td>\n",
       "      <td>C</td>\n",
       "    </tr>\n",
       "    <tr>\n",
       "      <th>2</th>\n",
       "      <td>3</td>\n",
       "      <td>1</td>\n",
       "      <td>3</td>\n",
       "      <td>Heikkinen, Miss. Laina</td>\n",
       "      <td>female</td>\n",
       "      <td>26.0</td>\n",
       "      <td>0</td>\n",
       "      <td>0</td>\n",
       "      <td>STON/O2. 3101282</td>\n",
       "      <td>7.9250</td>\n",
       "      <td>NaN</td>\n",
       "      <td>S</td>\n",
       "    </tr>\n",
       "    <tr>\n",
       "      <th>3</th>\n",
       "      <td>4</td>\n",
       "      <td>1</td>\n",
       "      <td>1</td>\n",
       "      <td>Futrelle, Mrs. Jacques Heath (Lily May Peel)</td>\n",
       "      <td>female</td>\n",
       "      <td>35.0</td>\n",
       "      <td>1</td>\n",
       "      <td>0</td>\n",
       "      <td>113803</td>\n",
       "      <td>53.1000</td>\n",
       "      <td>C123</td>\n",
       "      <td>S</td>\n",
       "    </tr>\n",
       "    <tr>\n",
       "      <th>4</th>\n",
       "      <td>5</td>\n",
       "      <td>0</td>\n",
       "      <td>3</td>\n",
       "      <td>Allen, Mr. William Henry</td>\n",
       "      <td>male</td>\n",
       "      <td>35.0</td>\n",
       "      <td>0</td>\n",
       "      <td>0</td>\n",
       "      <td>373450</td>\n",
       "      <td>8.0500</td>\n",
       "      <td>NaN</td>\n",
       "      <td>S</td>\n",
       "    </tr>\n",
       "  </tbody>\n",
       "</table>\n",
       "</div>"
      ],
      "text/plain": [
       "   PassengerId  Survived  Pclass  \\\n",
       "0            1         0       3   \n",
       "1            2         1       1   \n",
       "2            3         1       3   \n",
       "3            4         1       1   \n",
       "4            5         0       3   \n",
       "\n",
       "                                                Name     Sex   Age  SibSp  \\\n",
       "0                            Braund, Mr. Owen Harris    male  22.0      1   \n",
       "1  Cumings, Mrs. John Bradley (Florence Briggs Th...  female  38.0      1   \n",
       "2                             Heikkinen, Miss. Laina  female  26.0      0   \n",
       "3       Futrelle, Mrs. Jacques Heath (Lily May Peel)  female  35.0      1   \n",
       "4                           Allen, Mr. William Henry    male  35.0      0   \n",
       "\n",
       "   Parch            Ticket     Fare Cabin Embarked  \n",
       "0      0         A/5 21171   7.2500   NaN        S  \n",
       "1      0          PC 17599  71.2833   C85        C  \n",
       "2      0  STON/O2. 3101282   7.9250   NaN        S  \n",
       "3      0            113803  53.1000  C123        S  \n",
       "4      0            373450   8.0500   NaN        S  "
      ]
     },
     "execution_count": 3,
     "metadata": {},
     "output_type": "execute_result"
    }
   ],
   "source": [
    "titanic_raw_df.head()"
   ]
  },
  {
   "cell_type": "code",
   "execution_count": 4,
   "metadata": {
    "collapsed": false
   },
   "outputs": [
    {
     "data": {
      "text/plain": [
       "891"
      ]
     },
     "execution_count": 4,
     "metadata": {},
     "output_type": "execute_result"
    }
   ],
   "source": [
    "len(titanic_raw_df)"
   ]
  },
  {
   "cell_type": "markdown",
   "metadata": {},
   "source": [
    "### Data Cleaning"
   ]
  },
  {
   "cell_type": "markdown",
   "metadata": {},
   "source": [
    "#### Remove any duplicate passengers"
   ]
  },
  {
   "cell_type": "code",
   "execution_count": 5,
   "metadata": {
    "collapsed": false
   },
   "outputs": [],
   "source": [
    "titanic_df = titanic_raw_df.drop_duplicates(subset=['PassengerId'])"
   ]
  },
  {
   "cell_type": "markdown",
   "metadata": {},
   "source": [
    "#### Check if there are any NaN's in the data"
   ]
  },
  {
   "cell_type": "code",
   "execution_count": 6,
   "metadata": {
    "collapsed": false,
    "scrolled": true
   },
   "outputs": [
    {
     "data": {
      "text/plain": [
       "PassengerId      0\n",
       "Survived         0\n",
       "Pclass           0\n",
       "Name             0\n",
       "Sex              0\n",
       "Age            177\n",
       "SibSp            0\n",
       "Parch            0\n",
       "Ticket           0\n",
       "Fare             0\n",
       "Cabin          687\n",
       "Embarked         2\n",
       "dtype: int64"
      ]
     },
     "execution_count": 6,
     "metadata": {},
     "output_type": "execute_result"
    }
   ],
   "source": [
    "titanic_df.isnull().sum()"
   ]
  },
  {
   "cell_type": "markdown",
   "metadata": {},
   "source": [
    "Dropping the NaN's at this point would dramatically reduce our dataset. Although we won't remove the NaN's now, the results above tell us to watch out for NaN's when we analyze Age, Cabin, and Embarked. "
   ]
  },
  {
   "cell_type": "markdown",
   "metadata": {},
   "source": [
    "#### Convert data types"
   ]
  },
  {
   "cell_type": "markdown",
   "metadata": {},
   "source": [
    "If port of embarcation and gender were in binary format, it would be easier to aggregate the information later in the analysis. "
   ]
  },
  {
   "cell_type": "code",
   "execution_count": 7,
   "metadata": {
    "collapsed": true
   },
   "outputs": [],
   "source": [
    "def convert_boolean(col, to_match):\n",
    "    if col == to_match:\n",
    "        return 1\n",
    "    else:\n",
    "        return 0"
   ]
  },
  {
   "cell_type": "code",
   "execution_count": 8,
   "metadata": {
    "collapsed": true
   },
   "outputs": [],
   "source": [
    "titanic_df['is_male'] = titanic_df['Sex'].apply(\n",
    "    convert_boolean, args=('male',))"
   ]
  },
  {
   "cell_type": "code",
   "execution_count": 9,
   "metadata": {
    "collapsed": false
   },
   "outputs": [],
   "source": [
    "ports = titanic_df['Embarked'].dropna().unique()\n",
    "is_port_cols = ['is_port_S', 'is_port_C', 'is_port_Q']\n",
    "for pos in range(0,3):\n",
    "    titanic_df[is_port_cols[pos]] = titanic_df['Embarked'].apply(convert_boolean, args=(ports[pos],))"
   ]
  },
  {
   "cell_type": "markdown",
   "metadata": {},
   "source": [
    "#### Make meaningful index"
   ]
  },
  {
   "cell_type": "code",
   "execution_count": 10,
   "metadata": {
    "collapsed": false,
    "scrolled": true
   },
   "outputs": [
    {
     "data": {
      "text/plain": [
       "891"
      ]
     },
     "execution_count": 10,
     "metadata": {},
     "output_type": "execute_result"
    }
   ],
   "source": [
    "len(titanic_df['PassengerId'].unique())"
   ]
  },
  {
   "cell_type": "markdown",
   "metadata": {},
   "source": [
    "Since there are just as many unique PassengerId's as there are rows, PassengerId can serve as index instead of that assigned by Pandas during read_csv. "
   ]
  },
  {
   "cell_type": "code",
   "execution_count": 11,
   "metadata": {
    "collapsed": true
   },
   "outputs": [],
   "source": [
    "titanic_df = titanic_df.set_index('PassengerId')"
   ]
  },
  {
   "cell_type": "markdown",
   "metadata": {},
   "source": [
    "## Explore Data"
   ]
  },
  {
   "cell_type": "code",
   "execution_count": 12,
   "metadata": {
    "collapsed": false
   },
   "outputs": [
    {
     "name": "stdout",
     "output_type": "stream",
     "text": [
      "Populating the interactive namespace from numpy and matplotlib\n"
     ]
    }
   ],
   "source": [
    "%pylab inline"
   ]
  },
  {
   "cell_type": "markdown",
   "metadata": {},
   "source": [
    "### Overview of sample"
   ]
  },
  {
   "cell_type": "code",
   "execution_count": 13,
   "metadata": {
    "collapsed": false,
    "scrolled": false
   },
   "outputs": [
    {
     "data": {
      "text/html": [
       "<div>\n",
       "<table border=\"1\" class=\"dataframe\">\n",
       "  <thead>\n",
       "    <tr style=\"text-align: right;\">\n",
       "      <th></th>\n",
       "      <th>Survived</th>\n",
       "      <th>Pclass</th>\n",
       "      <th>Age</th>\n",
       "      <th>SibSp</th>\n",
       "      <th>Parch</th>\n",
       "      <th>Fare</th>\n",
       "      <th>is_male</th>\n",
       "      <th>is_port_S</th>\n",
       "      <th>is_port_C</th>\n",
       "      <th>is_port_Q</th>\n",
       "    </tr>\n",
       "  </thead>\n",
       "  <tbody>\n",
       "    <tr>\n",
       "      <th>count</th>\n",
       "      <td>891.000000</td>\n",
       "      <td>891.000000</td>\n",
       "      <td>714.000000</td>\n",
       "      <td>891.000000</td>\n",
       "      <td>891.000000</td>\n",
       "      <td>891.000000</td>\n",
       "      <td>891.000000</td>\n",
       "      <td>891.000000</td>\n",
       "      <td>891.000000</td>\n",
       "      <td>891.000000</td>\n",
       "    </tr>\n",
       "    <tr>\n",
       "      <th>mean</th>\n",
       "      <td>0.383838</td>\n",
       "      <td>2.308642</td>\n",
       "      <td>29.699118</td>\n",
       "      <td>0.523008</td>\n",
       "      <td>0.381594</td>\n",
       "      <td>32.204208</td>\n",
       "      <td>0.647587</td>\n",
       "      <td>0.722783</td>\n",
       "      <td>0.188552</td>\n",
       "      <td>0.086420</td>\n",
       "    </tr>\n",
       "    <tr>\n",
       "      <th>std</th>\n",
       "      <td>0.486592</td>\n",
       "      <td>0.836071</td>\n",
       "      <td>14.526497</td>\n",
       "      <td>1.102743</td>\n",
       "      <td>0.806057</td>\n",
       "      <td>49.693429</td>\n",
       "      <td>0.477990</td>\n",
       "      <td>0.447876</td>\n",
       "      <td>0.391372</td>\n",
       "      <td>0.281141</td>\n",
       "    </tr>\n",
       "    <tr>\n",
       "      <th>min</th>\n",
       "      <td>0.000000</td>\n",
       "      <td>1.000000</td>\n",
       "      <td>0.420000</td>\n",
       "      <td>0.000000</td>\n",
       "      <td>0.000000</td>\n",
       "      <td>0.000000</td>\n",
       "      <td>0.000000</td>\n",
       "      <td>0.000000</td>\n",
       "      <td>0.000000</td>\n",
       "      <td>0.000000</td>\n",
       "    </tr>\n",
       "    <tr>\n",
       "      <th>25%</th>\n",
       "      <td>0.000000</td>\n",
       "      <td>2.000000</td>\n",
       "      <td>20.125000</td>\n",
       "      <td>0.000000</td>\n",
       "      <td>0.000000</td>\n",
       "      <td>7.910400</td>\n",
       "      <td>0.000000</td>\n",
       "      <td>0.000000</td>\n",
       "      <td>0.000000</td>\n",
       "      <td>0.000000</td>\n",
       "    </tr>\n",
       "    <tr>\n",
       "      <th>50%</th>\n",
       "      <td>0.000000</td>\n",
       "      <td>3.000000</td>\n",
       "      <td>28.000000</td>\n",
       "      <td>0.000000</td>\n",
       "      <td>0.000000</td>\n",
       "      <td>14.454200</td>\n",
       "      <td>1.000000</td>\n",
       "      <td>1.000000</td>\n",
       "      <td>0.000000</td>\n",
       "      <td>0.000000</td>\n",
       "    </tr>\n",
       "    <tr>\n",
       "      <th>75%</th>\n",
       "      <td>1.000000</td>\n",
       "      <td>3.000000</td>\n",
       "      <td>38.000000</td>\n",
       "      <td>1.000000</td>\n",
       "      <td>0.000000</td>\n",
       "      <td>31.000000</td>\n",
       "      <td>1.000000</td>\n",
       "      <td>1.000000</td>\n",
       "      <td>0.000000</td>\n",
       "      <td>0.000000</td>\n",
       "    </tr>\n",
       "    <tr>\n",
       "      <th>max</th>\n",
       "      <td>1.000000</td>\n",
       "      <td>3.000000</td>\n",
       "      <td>80.000000</td>\n",
       "      <td>8.000000</td>\n",
       "      <td>6.000000</td>\n",
       "      <td>512.329200</td>\n",
       "      <td>1.000000</td>\n",
       "      <td>1.000000</td>\n",
       "      <td>1.000000</td>\n",
       "      <td>1.000000</td>\n",
       "    </tr>\n",
       "  </tbody>\n",
       "</table>\n",
       "</div>"
      ],
      "text/plain": [
       "         Survived      Pclass         Age       SibSp       Parch        Fare  \\\n",
       "count  891.000000  891.000000  714.000000  891.000000  891.000000  891.000000   \n",
       "mean     0.383838    2.308642   29.699118    0.523008    0.381594   32.204208   \n",
       "std      0.486592    0.836071   14.526497    1.102743    0.806057   49.693429   \n",
       "min      0.000000    1.000000    0.420000    0.000000    0.000000    0.000000   \n",
       "25%      0.000000    2.000000   20.125000    0.000000    0.000000    7.910400   \n",
       "50%      0.000000    3.000000   28.000000    0.000000    0.000000   14.454200   \n",
       "75%      1.000000    3.000000   38.000000    1.000000    0.000000   31.000000   \n",
       "max      1.000000    3.000000   80.000000    8.000000    6.000000  512.329200   \n",
       "\n",
       "          is_male   is_port_S   is_port_C   is_port_Q  \n",
       "count  891.000000  891.000000  891.000000  891.000000  \n",
       "mean     0.647587    0.722783    0.188552    0.086420  \n",
       "std      0.477990    0.447876    0.391372    0.281141  \n",
       "min      0.000000    0.000000    0.000000    0.000000  \n",
       "25%      0.000000    0.000000    0.000000    0.000000  \n",
       "50%      1.000000    1.000000    0.000000    0.000000  \n",
       "75%      1.000000    1.000000    0.000000    0.000000  \n",
       "max      1.000000    1.000000    1.000000    1.000000  "
      ]
     },
     "execution_count": 13,
     "metadata": {},
     "output_type": "execute_result"
    }
   ],
   "source": [
    "titanic_df.describe()"
   ]
  },
  {
   "cell_type": "markdown",
   "metadata": {},
   "source": [
    "Highlights from the results above:\n",
    "- 891 passengers\n",
    "- 38% of passengers survived\n",
    "- 65% of passengers were male\n",
    "- more than 50% were 3rd class \n",
    "- average age of 29.7 years \n",
    "- at least 50% had no sibling or spouse\n",
    "- at least 75% had no parents or children\n",
    "- 75% paid £31 or less for fare\n",
    "- 72% left from port Southampton\n",
    "\n",
    "The Titanic killed 1502 of 2224 passengers, and the overall survival rate was 32.5%. This dataset is slightly skewed in favor of those who survived. "
   ]
  },
  {
   "cell_type": "markdown",
   "metadata": {},
   "source": [
    "### Differences between survivors and non-survivors"
   ]
  },
  {
   "cell_type": "code",
   "execution_count": 14,
   "metadata": {
    "collapsed": false,
    "scrolled": true
   },
   "outputs": [
    {
     "data": {
      "text/html": [
       "<div>\n",
       "<table border=\"1\" class=\"dataframe\">\n",
       "  <thead>\n",
       "    <tr style=\"text-align: right;\">\n",
       "      <th></th>\n",
       "      <th>Pclass</th>\n",
       "      <th>Age</th>\n",
       "      <th>SibSp</th>\n",
       "      <th>Parch</th>\n",
       "      <th>Fare</th>\n",
       "      <th>is_male</th>\n",
       "      <th>is_port_S</th>\n",
       "      <th>is_port_C</th>\n",
       "      <th>is_port_Q</th>\n",
       "    </tr>\n",
       "    <tr>\n",
       "      <th>Survived</th>\n",
       "      <th></th>\n",
       "      <th></th>\n",
       "      <th></th>\n",
       "      <th></th>\n",
       "      <th></th>\n",
       "      <th></th>\n",
       "      <th></th>\n",
       "      <th></th>\n",
       "      <th></th>\n",
       "    </tr>\n",
       "  </thead>\n",
       "  <tbody>\n",
       "    <tr>\n",
       "      <th>0</th>\n",
       "      <td>2.531876</td>\n",
       "      <td>30.626179</td>\n",
       "      <td>0.553734</td>\n",
       "      <td>0.329690</td>\n",
       "      <td>22.117887</td>\n",
       "      <td>0.852459</td>\n",
       "      <td>0.777778</td>\n",
       "      <td>0.136612</td>\n",
       "      <td>0.085610</td>\n",
       "    </tr>\n",
       "    <tr>\n",
       "      <th>1</th>\n",
       "      <td>1.950292</td>\n",
       "      <td>28.343690</td>\n",
       "      <td>0.473684</td>\n",
       "      <td>0.464912</td>\n",
       "      <td>48.395408</td>\n",
       "      <td>0.318713</td>\n",
       "      <td>0.634503</td>\n",
       "      <td>0.271930</td>\n",
       "      <td>0.087719</td>\n",
       "    </tr>\n",
       "  </tbody>\n",
       "</table>\n",
       "</div>"
      ],
      "text/plain": [
       "            Pclass        Age     SibSp     Parch       Fare   is_male  \\\n",
       "Survived                                                                 \n",
       "0         2.531876  30.626179  0.553734  0.329690  22.117887  0.852459   \n",
       "1         1.950292  28.343690  0.473684  0.464912  48.395408  0.318713   \n",
       "\n",
       "          is_port_S  is_port_C  is_port_Q  \n",
       "Survived                                   \n",
       "0          0.777778   0.136612   0.085610  \n",
       "1          0.634503   0.271930   0.087719  "
      ]
     },
     "execution_count": 14,
     "metadata": {},
     "output_type": "execute_result"
    }
   ],
   "source": [
    "titanic_df.groupby(['Survived']).mean()"
   ]
  },
  {
   "cell_type": "markdown",
   "metadata": {},
   "source": [
    "The results above suggest that the following groups had better chances of survival:\n",
    "1. First and second passenger classes\n",
    "2. Women\n",
    "3. Those who embarked at Cherbourg and not at Southampton\n",
    "4. Younger people\n",
    "5. Those without siblings and spouses\n",
    "6. Those with parents and children\n",
    "7. Those who paid higher fares\n",
    "\n",
    "The factors above may be correlated with each other. I.e., more of the women may have been first-class passengers and have had children or parents. "
   ]
  },
  {
   "cell_type": "markdown",
   "metadata": {},
   "source": [
    "## Impact of gatekeepers"
   ]
  },
  {
   "cell_type": "markdown",
   "metadata": {},
   "source": [
    "The gatekeepers who controlled access to the lifeboats prioritized women, higher class passengers, and children. In this section, we explore how much influence they had by examining the extent to which belonging to these categories influenced people's chances for survival. "
   ]
  },
  {
   "cell_type": "markdown",
   "metadata": {},
   "source": [
    "### Gender and passenger class"
   ]
  },
  {
   "cell_type": "markdown",
   "metadata": {},
   "source": [
    "#### Breakdown of survivors and non-survivors according to gender and passenger class"
   ]
  },
  {
   "cell_type": "code",
   "execution_count": 15,
   "metadata": {
    "collapsed": true
   },
   "outputs": [],
   "source": [
    "def gender_class_pie(group, startangle, explode):\n",
    "    index = np.array([\n",
    "        'Female, 1st class',\n",
    "        'Female, 2nd class',\n",
    "        'Female, 3rd class',\n",
    "        'Male, 1st class',\n",
    "        'Male, 2nd class',\n",
    "        'Male, 3rd class',\n",
    "       ])\n",
    "    colors=['red', 'pink', 'orange', 'blue', 'green', 'tan']\n",
    "    group_sizes = group.groupby(['is_male', 'Pclass']).size()\n",
    "    group_sizes.index = index\n",
    "    group_sizes.plot.pie(\n",
    "        autopct='%1.1f%%',\n",
    "        colors=colors,\n",
    "        startangle=startangle,\n",
    "        explode=explode\n",
    "    )\n",
    "    plt.axis('equal')\n",
    "    plt.ylabel('')"
   ]
  },
  {
   "cell_type": "code",
   "execution_count": 16,
   "metadata": {
    "collapsed": false
   },
   "outputs": [
    {
     "data": {
      "text/plain": [
       "<matplotlib.text.Text at 0x10dc60110>"
      ]
     },
     "execution_count": 16,
     "metadata": {},
     "output_type": "execute_result"
    },
    {
     "data": {
      "image/png": "[encoded data removed]",
      "text/plain": [
       "<matplotlib.figure.Figure at 0x10ddeff10>"
      ]
     },
     "metadata": {},
     "output_type": "display_data"
    }
   ],
   "source": [
    "survivors = titanic_df.loc[titanic_df['Survived'] == 1]\n",
    "explode=(0, 0, 0, 0, 0, 0)\n",
    "gender_class_pie(survivors, 0, explode)\n",
    "plt.title('Survivors')"
   ]
  },
  {
   "cell_type": "code",
   "execution_count": 17,
   "metadata": {
    "collapsed": false
   },
   "outputs": [
    {
     "data": {
      "text/plain": [
       "<matplotlib.text.Text at 0x1103c24d0>"
      ]
     },
     "execution_count": 17,
     "metadata": {},
     "output_type": "execute_result"
    },
    {
     "data": {
      "image/png": "[encoded data removed]",
      "text/plain": [
       "<matplotlib.figure.Figure at 0x10dd41490>"
      ]
     },
     "metadata": {},
     "output_type": "display_data"
    }
   ],
   "source": [
    "nonsurvivors = titanic_df.loc[titanic_df['Survived'] == 0]\n",
    "explode=(.7, .2, 0, 0, 0, 0)\n",
    "gender_class_pie(nonsurvivors, 150, explode)\n",
    "plt.title('Nonsurvivors')"
   ]
  },
  {
   "cell_type": "markdown",
   "metadata": {},
   "source": [
    "The charts above show a strong relationship between gender, passenger class, and survival:\n",
    "- Women comprised 68% of survivors and 15% of non-survivors\n",
    "- Third class men comprised 14% of survivors and 55% of non-survivors"
   ]
  },
  {
   "cell_type": "markdown",
   "metadata": {},
   "source": [
    "#### Survival rates for each gender and passenger class"
   ]
  },
  {
   "cell_type": "code",
   "execution_count": 18,
   "metadata": {
    "collapsed": false
   },
   "outputs": [],
   "source": [
    "def survival_rate(group):\n",
    "    total_number = len(group)\n",
    "    if total_number > 0:\n",
    "        number_survived = group['Survived'].sum()\n",
    "        number_died = total_number - number_survived\n",
    "        percent_survived = (100.*number_survived/total_number)\n",
    "        #percent_survived = '{0:.2f}%'.format(100.*number_survived/total_number)\n",
    "    else:\n",
    "        number_survived = 0.\n",
    "        number_died = 0.\n",
    "        percent_survived = 0.\n",
    "    data = [total_number, number_survived, number_died, percent_survived]\n",
    "    column_names = ['total number', 'number survived', 'number died', 'percent survived']\n",
    "    return pd.Series(data, column_names)"
   ]
  },
  {
   "cell_type": "code",
   "execution_count": 19,
   "metadata": {
    "collapsed": false
   },
   "outputs": [
    {
     "data": {
      "text/html": [
       "<div>\n",
       "<table border=\"1\" class=\"dataframe\">\n",
       "  <thead>\n",
       "    <tr style=\"text-align: right;\">\n",
       "      <th>Pclass</th>\n",
       "      <th>1</th>\n",
       "      <th>2</th>\n",
       "      <th>3</th>\n",
       "    </tr>\n",
       "    <tr>\n",
       "      <th>is_male</th>\n",
       "      <th></th>\n",
       "      <th></th>\n",
       "      <th></th>\n",
       "    </tr>\n",
       "  </thead>\n",
       "  <tbody>\n",
       "    <tr>\n",
       "      <th>0</th>\n",
       "      <td>96.808511</td>\n",
       "      <td>92.105263</td>\n",
       "      <td>50.000000</td>\n",
       "    </tr>\n",
       "    <tr>\n",
       "      <th>1</th>\n",
       "      <td>36.885246</td>\n",
       "      <td>15.740741</td>\n",
       "      <td>13.544669</td>\n",
       "    </tr>\n",
       "  </tbody>\n",
       "</table>\n",
       "</div>"
      ],
      "text/plain": [
       "Pclass           1          2          3\n",
       "is_male                                 \n",
       "0        96.808511  92.105263  50.000000\n",
       "1        36.885246  15.740741  13.544669"
      ]
     },
     "execution_count": 19,
     "metadata": {},
     "output_type": "execute_result"
    }
   ],
   "source": [
    "# percent of women, men, 1st class, 2nd class, and 3rd class passengers who survived\n",
    "titanic_df_group = titanic_df.groupby(['is_male', 'Pclass']).apply(survival_rate)\n",
    "titanic_df_group['percent survived'].unstack()"
   ]
  },
  {
   "cell_type": "markdown",
   "metadata": {},
   "source": [
    "The results above show the impact of gatekeepers' preferential treatment of women and higher class passengers:\n",
    "- Nearly all 1st and 2nd class female passengers survived.\n",
    "- Nearly all 2nd and 3rd class male passengers died. \n",
    "\n",
    "Moreover, they show that both gender and passenger class strongly affected people's chances for survival. Regardless of gender, 1st class passengers were more likely to survive than the 2nd class passengers, and third class passengers had the lowest chances. Regardless of class, women were more likely to survive than men. \n",
    "\n",
    "When individuals belonged to one group that received preferential treatment and another group that did not, their chances of survival were more uncertain:\n",
    "- Half of female third class passengers died\n",
    "- About a third of first class male passengers survived"
   ]
  },
  {
   "cell_type": "markdown",
   "metadata": {},
   "source": [
    "### Age"
   ]
  },
  {
   "cell_type": "markdown",
   "metadata": {},
   "source": [
    "#### Age distribution of all survivors and non-survivors"
   ]
  },
  {
   "cell_type": "code",
   "execution_count": 20,
   "metadata": {
    "collapsed": false
   },
   "outputs": [
    {
     "data": {
      "text/plain": [
       "<matplotlib.text.Text at 0x1109ff450>"
      ]
     },
     "execution_count": 20,
     "metadata": {},
     "output_type": "execute_result"
    },
    {
     "data": {
      "image/png": "[encoded data removed]",
      "text/plain": [
       "<matplotlib.figure.Figure at 0x10dd41f90>"
      ]
     },
     "metadata": {},
     "output_type": "display_data"
    }
   ],
   "source": [
    "ages_nonsurvivors = nonsurvivors['Age'].dropna()\n",
    "ages_survivors = survivors['Age'].dropna()\n",
    "data = [np.array(ages_nonsurvivors), np.array(ages_survivors)]\n",
    "#ages_df = pd.DataFrame({'Survivors': ages_survivors, 'Non-survivors': ages_nonsurvivors})\n",
    "colors=['green', 'blue']\n",
    "labels=['Non-survivors', 'Survivors']\n",
    "plt.hist(\n",
    "    data,\n",
    "    alpha=0.5,\n",
    "    bins=25,\n",
    "    histtype='bar',\n",
    "    color=colors,\n",
    "    label=labels,\n",
    ")\n",
    "plt.title('Age distribution of survivors and non-survivors')\n",
    "plt.legend(loc='upper right')\n",
    "plt.xlabel('Age')\n",
    "plt.ylabel('Number of passengers')"
   ]
  },
  {
   "cell_type": "markdown",
   "metadata": {},
   "source": [
    "The results above suggest:\n",
    "- Passengers between ages 0 and 8 had the highest chances of surviving.\n",
    "- Passengers between ages 16 and 30 had the highest rates of dying.\n",
    "\n",
    "Perhaps, children were more likely to survive because they tended to be female or belong to a higher passenger class. To rule out this possibility and to confirm that they survived because gatekeepers gave them preference, we investigate the survival rates of children when controlled for gender and passenger class."
   ]
  },
  {
   "cell_type": "markdown",
   "metadata": {},
   "source": [
    "#### Survival rates of 2nd and 3rd class males as function of age"
   ]
  },
  {
   "cell_type": "code",
   "execution_count": 21,
   "metadata": {
    "collapsed": false
   },
   "outputs": [
    {
     "data": {
      "text/html": [
       "<div>\n",
       "<table border=\"1\" class=\"dataframe\">\n",
       "  <thead>\n",
       "    <tr style=\"text-align: right;\">\n",
       "      <th></th>\n",
       "      <th>total number</th>\n",
       "      <th>number survived</th>\n",
       "      <th>number died</th>\n",
       "      <th>percent survived</th>\n",
       "    </tr>\n",
       "    <tr>\n",
       "      <th>Age</th>\n",
       "      <th></th>\n",
       "      <th></th>\n",
       "      <th></th>\n",
       "      <th></th>\n",
       "    </tr>\n",
       "  </thead>\n",
       "  <tbody>\n",
       "    <tr>\n",
       "      <th>(0, 13]</th>\n",
       "      <td>34.0</td>\n",
       "      <td>18.0</td>\n",
       "      <td>16.0</td>\n",
       "      <td>52.941176</td>\n",
       "    </tr>\n",
       "    <tr>\n",
       "      <th>(13, 80]</th>\n",
       "      <td>318.0</td>\n",
       "      <td>35.0</td>\n",
       "      <td>283.0</td>\n",
       "      <td>11.006289</td>\n",
       "    </tr>\n",
       "  </tbody>\n",
       "</table>\n",
       "</div>"
      ],
      "text/plain": [
       "          total number  number survived  number died  percent survived\n",
       "Age                                                                   \n",
       "(0, 13]           34.0             18.0         16.0         52.941176\n",
       "(13, 80]         318.0             35.0        283.0         11.006289"
      ]
     },
     "execution_count": 21,
     "metadata": {},
     "output_type": "execute_result"
    }
   ],
   "source": [
    "bins = [0, 13, titanic_df['Age'].max()]\n",
    "titanic_3rd_men = titanic_df.loc[(titanic_df['is_male'] == 1) & (titanic_df['Pclass'] != 1)]\n",
    "titanic_3rd_men_age_indexes = pd.cut(titanic_3rd_men['Age'], bins)\n",
    "titanic_3rd_men.groupby([titanic_3rd_men_age_indexes]).apply(survival_rate)"
   ]
  },
  {
   "cell_type": "markdown",
   "metadata": {},
   "source": [
    "This analysis shows the impact of gatekeepers' preferential treatment of children. Lower class male children under age 13 had better than 53% chance of survival, while all other lower class males had 11% chance of survival. "
   ]
  },
  {
   "cell_type": "markdown",
   "metadata": {},
   "source": [
    "### Gatekeepers' individual characteristics"
   ]
  },
  {
   "cell_type": "markdown",
   "metadata": {},
   "source": [
    "Each gatekeeper had a different skill level in handing life boats and interpreted the captain's instructions to prioritize women and higher class passengers differently. Moreover, [Encyclopedia Titanica](https://www.encyclopedia-titanica.org/titanic-deckplans) diagrams show that the first letter of the cabin number corresponded to the deck and that odd cabin numbers corresponded to the left side of the ship. Since a different gatekeeper was assigned to each deck and each side of the ship, cabin numbers would have reflected which gatekeeper the passengers interacted with. In this section, we explore the survival rates for each deck and side of ship to undercover the impact of gatekeepers' individual characteristics on passengers' survival."
   ]
  },
  {
   "cell_type": "markdown",
   "metadata": {
    "collapsed": true
   },
   "source": [
    "#### Limitations of data"
   ]
  },
  {
   "cell_type": "markdown",
   "metadata": {},
   "source": [
    "As shown in the analysis below, male, first class passengers was the only group that had sizable number of survivors and non-survivors with cabin data. While the dataset is inadequate for a comprehensive study on gatekeepers, we can gain insights on the extent to which interacting with the right gatekeeper helped first class men to survive."
   ]
  },
  {
   "cell_type": "code",
   "execution_count": 22,
   "metadata": {
    "collapsed": true
   },
   "outputs": [],
   "source": [
    "# To facilitate comparison between survivors and non-survivors, this function separates the group \n",
    "# into these subgroups if each subgroup is sizable, i.e. had at least 4 passengers, and returns their sizes\n",
    "def survivors_vs_nonsurvivors(group):\n",
    "    total_people = len(group)\n",
    "    number_survived = group['Survived'].sum()\n",
    "    number_died = total_people - number_survived\n",
    "    if number_survived >= 4 and number_died >= 4:\n",
    "        return group.groupby(['Survived']).size()"
   ]
  },
  {
   "cell_type": "code",
   "execution_count": 23,
   "metadata": {
    "collapsed": false
   },
   "outputs": [
    {
     "data": {
      "text/html": [
       "<div>\n",
       "<table border=\"1\" class=\"dataframe\">\n",
       "  <thead>\n",
       "    <tr style=\"text-align: right;\">\n",
       "      <th></th>\n",
       "      <th></th>\n",
       "      <th>Survived</th>\n",
       "      <th>0</th>\n",
       "      <th>1</th>\n",
       "    </tr>\n",
       "    <tr>\n",
       "      <th>is_male</th>\n",
       "      <th>Pclass</th>\n",
       "      <th>Deck</th>\n",
       "      <th></th>\n",
       "      <th></th>\n",
       "    </tr>\n",
       "  </thead>\n",
       "  <tbody>\n",
       "    <tr>\n",
       "      <th rowspan=\"5\" valign=\"top\">1</th>\n",
       "      <th rowspan=\"5\" valign=\"top\">1</th>\n",
       "      <th>A</th>\n",
       "      <td>8.0</td>\n",
       "      <td>6.0</td>\n",
       "    </tr>\n",
       "    <tr>\n",
       "      <th>B</th>\n",
       "      <td>12.0</td>\n",
       "      <td>8.0</td>\n",
       "    </tr>\n",
       "    <tr>\n",
       "      <th>C</th>\n",
       "      <td>21.0</td>\n",
       "      <td>11.0</td>\n",
       "    </tr>\n",
       "    <tr>\n",
       "      <th>D</th>\n",
       "      <td>7.0</td>\n",
       "      <td>6.0</td>\n",
       "    </tr>\n",
       "    <tr>\n",
       "      <th>E</th>\n",
       "      <td>7.0</td>\n",
       "      <td>8.0</td>\n",
       "    </tr>\n",
       "  </tbody>\n",
       "</table>\n",
       "</div>"
      ],
      "text/plain": [
       "Survived                0     1\n",
       "is_male Pclass Deck            \n",
       "1       1      A      8.0   6.0\n",
       "               B     12.0   8.0\n",
       "               C     21.0  11.0\n",
       "               D      7.0   6.0\n",
       "               E      7.0   8.0"
      ]
     },
     "execution_count": 23,
     "metadata": {},
     "output_type": "execute_result"
    }
   ],
   "source": [
    "# counts of passengers who had cabin data who belonged to classifications with good chances for both surviving and dying\n",
    "cabin_df = titanic_df.copy().dropna(subset=['Cabin'])\n",
    "cabin_df['Deck'] = cabin_df['Cabin'].str[:1]\n",
    "cabin_df.groupby(['is_male', 'Pclass', 'Deck']).apply(survivors_vs_nonsurvivors).dropna()"
   ]
  },
  {
   "cell_type": "markdown",
   "metadata": {},
   "source": [
    "#### Variations in survival rates across the ship"
   ]
  },
  {
   "cell_type": "code",
   "execution_count": 24,
   "metadata": {
    "collapsed": true
   },
   "outputs": [],
   "source": [
    "# odd numbers were on left side of ship\n",
    "# returns 1 if odd, 0 if even, and '-1' if invalid conversion\n",
    "def left_side(number):\n",
    "    number = str(number)\n",
    "    last_digit = number[-1]\n",
    "    if str.isdigit(last_digit): \n",
    "        return int(last_digit)%2\n",
    "    return -1 "
   ]
  },
  {
   "cell_type": "code",
   "execution_count": 34,
   "metadata": {
    "collapsed": false
   },
   "outputs": [
    {
     "data": {
      "text/html": [
       "<div>\n",
       "<table border=\"1\" class=\"dataframe\">\n",
       "  <thead>\n",
       "    <tr style=\"text-align: right;\">\n",
       "      <th>is_left_side</th>\n",
       "      <th>0</th>\n",
       "      <th>1</th>\n",
       "    </tr>\n",
       "    <tr>\n",
       "      <th>Deck</th>\n",
       "      <th></th>\n",
       "      <th></th>\n",
       "    </tr>\n",
       "  </thead>\n",
       "  <tbody>\n",
       "    <tr>\n",
       "      <th>A</th>\n",
       "      <td>0.444444</td>\n",
       "      <td>0.400000</td>\n",
       "    </tr>\n",
       "    <tr>\n",
       "      <th>B</th>\n",
       "      <td>0.333333</td>\n",
       "      <td>0.500000</td>\n",
       "    </tr>\n",
       "    <tr>\n",
       "      <th>C</th>\n",
       "      <td>0.428571</td>\n",
       "      <td>0.181818</td>\n",
       "    </tr>\n",
       "    <tr>\n",
       "      <th>D</th>\n",
       "      <td>0.125000</td>\n",
       "      <td>1.000000</td>\n",
       "    </tr>\n",
       "    <tr>\n",
       "      <th>E</th>\n",
       "      <td>0.555556</td>\n",
       "      <td>0.500000</td>\n",
       "    </tr>\n",
       "  </tbody>\n",
       "</table>\n",
       "</div>"
      ],
      "text/plain": [
       "is_left_side         0         1\n",
       "Deck                            \n",
       "A             0.444444  0.400000\n",
       "B             0.333333  0.500000\n",
       "C             0.428571  0.181818\n",
       "D             0.125000  1.000000\n",
       "E             0.555556  0.500000"
      ]
     },
     "execution_count": 34,
     "metadata": {},
     "output_type": "execute_result"
    }
   ],
   "source": [
    "# survival rates for 1st class men across ship\n",
    "cabin_df['is_left_side'] = cabin_df['Cabin'].apply(left_side)\n",
    "cabin_df = cabin_df.drop(cabin_df[cabin_df['is_left_side'] == -1].index)\n",
    "cabin_male_1st = cabin_df.loc[(cabin_df['is_male'] == 1) & (cabin_df['Pclass'] == 1)]\n",
    "cabin_male_1st.groupby(['Deck', 'is_left_side'])['Survived'].mean().unstack()"
   ]
  },
  {
   "cell_type": "markdown",
   "metadata": {},
   "source": [
    "Variations in survival rates for 1st class men across decks and sides of ship suggest that interacting with the right gatekeeper could significantly improve outcomes. For example, 1st class men had 100% chance of survival if they were on the left side of deck D, and less than 20% chance of survival if they were on the left side of deck C or the right side of deck D. \n",
    "\n",
    "Is it possible that this finding is a mere correlation and that the stationing of officers did not matter? Could safety be assured for passengers on the left side of deck D regardless of which officer was stationed there? \n",
    "\n",
    "Chances of this happening are small. Although deck C was directly above deck D, its survival rates were very different for first class males. \n",
    "\n",
    "The variable that most likely explains this variation is the ship officer who served as gatekeeper. Each gatekeeper intepreted differently the captain's instructions to prioritize women, and the interpretation likely influenced whether 1st class men could get on life boats."
   ]
  },
  {
   "cell_type": "markdown",
   "metadata": {},
   "source": [
    "## Beating the odds"
   ]
  },
  {
   "cell_type": "markdown",
   "metadata": {},
   "source": [
    "Although gatekeepers deterred most lower class passengers and adult males from getting onto lifeboats, a small fraction of these groups still managed to survive and beat the odds. This section explores social interactions with other passengers as variables that explain survival beyond the influence of gatekeepers. Specifically, it examines proximity to 1st class passengers and family."
   ]
  },
  {
   "cell_type": "markdown",
   "metadata": {},
   "source": [
    "### Proximity to 1st class passengers"
   ]
  },
  {
   "cell_type": "markdown",
   "metadata": {},
   "source": [
    "As shown in the table below, 51% of passengers who boarded at Cherbourg were 1st class passengers, and 93% of Queenstown passengers were 3rd class passengers. Did boarding the ship at Cherbourg, which may have increased relationships and associations with 1st class passengers, increase odds for lower class passengers? "
   ]
  },
  {
   "cell_type": "code",
   "execution_count": 26,
   "metadata": {
    "collapsed": false,
    "scrolled": true
   },
   "outputs": [
    {
     "data": {
      "text/html": [
       "<div>\n",
       "<table border=\"1\" class=\"dataframe\">\n",
       "  <thead>\n",
       "    <tr style=\"text-align: right;\">\n",
       "      <th>Pclass</th>\n",
       "      <th>1</th>\n",
       "      <th>2</th>\n",
       "      <th>3</th>\n",
       "    </tr>\n",
       "    <tr>\n",
       "      <th>Embarked</th>\n",
       "      <th></th>\n",
       "      <th></th>\n",
       "      <th></th>\n",
       "    </tr>\n",
       "  </thead>\n",
       "  <tbody>\n",
       "    <tr>\n",
       "      <th>C</th>\n",
       "      <td>0.505952</td>\n",
       "      <td>0.101190</td>\n",
       "      <td>0.392857</td>\n",
       "    </tr>\n",
       "    <tr>\n",
       "      <th>Q</th>\n",
       "      <td>0.025974</td>\n",
       "      <td>0.038961</td>\n",
       "      <td>0.935065</td>\n",
       "    </tr>\n",
       "    <tr>\n",
       "      <th>S</th>\n",
       "      <td>0.197205</td>\n",
       "      <td>0.254658</td>\n",
       "      <td>0.548137</td>\n",
       "    </tr>\n",
       "  </tbody>\n",
       "</table>\n",
       "</div>"
      ],
      "text/plain": [
       "Pclass           1         2         3\n",
       "Embarked                              \n",
       "C         0.505952  0.101190  0.392857\n",
       "Q         0.025974  0.038961  0.935065\n",
       "S         0.197205  0.254658  0.548137"
      ]
     },
     "execution_count": 26,
     "metadata": {},
     "output_type": "execute_result"
    }
   ],
   "source": [
    "# percent of passengers who boarded at each port who were 1st, 2nd, or 3rd class\n",
    "pclass_port_counts = titanic_df.groupby(['Embarked', 'Pclass']).size()\n",
    "total_port_counts = titanic_df.groupby('Embarked').size()\n",
    "pclass_port_counts.divide(total_port_counts.T).unstack()"
   ]
  },
  {
   "cell_type": "code",
   "execution_count": 27,
   "metadata": {
    "collapsed": true
   },
   "outputs": [],
   "source": [
    "categories = ['is_male', 'Pclass', 'Embarked']"
   ]
  },
  {
   "cell_type": "code",
   "execution_count": 28,
   "metadata": {
    "collapsed": false
   },
   "outputs": [],
   "source": [
    "titanic_df_group = titanic_df.groupby(categories).apply(survival_rate)"
   ]
  },
  {
   "cell_type": "code",
   "execution_count": 29,
   "metadata": {
    "collapsed": false
   },
   "outputs": [
    {
     "data": {
      "text/plain": [
       "<matplotlib.axes._subplots.AxesSubplot at 0x110b65750>"
      ]
     },
     "execution_count": 29,
     "metadata": {},
     "output_type": "execute_result"
    },
    {
     "data": {
      "image/png": "[encoded data removed]",
      "text/plain": [
       "<matplotlib.figure.Figure at 0x110b9cfd0>"
      ]
     },
     "metadata": {},
     "output_type": "display_data"
    }
   ],
   "source": [
    "index = np.array([\n",
    "        'Female, 1st class, Cherbourg',\n",
    "        'Female, 1st class, Queenstown',\n",
    "        'Female, 1st class, Southampton',\n",
    "        'Female, 2nd class, Cherbourg',\n",
    "        'Female, 2nd class, Queenstown',\n",
    "        'Female, 2nd class, Southampton',\n",
    "        'Female, 3rd class, Cherbourg',\n",
    "        'Female, 3rd class, Queenstown',\n",
    "        'Female, 3rd class, Southampton',\n",
    "        'Male, 1st class, Cherbourg',\n",
    "        'Male, 1st class, Queenstown',\n",
    "        'Male, 1st class, Southampton',\n",
    "        'Male, 2nd class, Cherbourg',\n",
    "        'Male, 2nd class, Queenstown',\n",
    "        'Male, 2nd class, Southampton',\n",
    "        'Male, 3rd class, Cherbourg',\n",
    "        'Male, 3rd class, Queenstown',\n",
    "        'Male, 3rd class, Southampton',\n",
    "       ])\n",
    "\n",
    "titanic_df_group_survival_rates = titanic_df_group.reset_index().set_index(index)\n",
    "titanic_df_group_survived_died = titanic_df_group_survival_rates[['number survived', 'number died']]\n",
    "titanic_df_group_survived_died.plot.bar(\n",
    "    title = 'Survival rates',\n",
    "    stacked=True)"
   ]
  },
  {
   "cell_type": "markdown",
   "metadata": {},
   "source": [
    "We notice the following patterns:\n",
    "- Male, 3rd class passengers who embarked at Southampton was the largest group and created the largest number of deaths\n",
    "- Males were more likely to survive if they embarked at Cherbourg than if they embarked at Queenstown and or Southampton, regardless of passenger class\n",
    "- Nearly all female, 1st and 2nd class passengers survived, regardless of port of embarcation\n",
    "- Female 3rd class passengers were more likely to survive if they embarked at Cherbourg and Queenstown than if they embarked at Southampton\n",
    "\n",
    "Boarding at Cherbourg increased odds of survival for lower class passenger classes and men. Their proximity to passengers who received preferential treatment may have helped them get onto life boats."
   ]
  },
  {
   "cell_type": "markdown",
   "metadata": {},
   "source": [
    "### Family"
   ]
  },
  {
   "cell_type": "markdown",
   "metadata": {},
   "source": [
    "#### How did the number of family members impact women?"
   ]
  },
  {
   "cell_type": "code",
   "execution_count": 30,
   "metadata": {
    "collapsed": false
   },
   "outputs": [
    {
     "data": {
      "text/html": [
       "<div>\n",
       "<table border=\"1\" class=\"dataframe\">\n",
       "  <thead>\n",
       "    <tr style=\"text-align: right;\">\n",
       "      <th></th>\n",
       "      <th></th>\n",
       "      <th>total number</th>\n",
       "      <th>number survived</th>\n",
       "      <th>number died</th>\n",
       "      <th>percent survived</th>\n",
       "    </tr>\n",
       "    <tr>\n",
       "      <th>Pclass</th>\n",
       "      <th>SibSp</th>\n",
       "      <th></th>\n",
       "      <th></th>\n",
       "      <th></th>\n",
       "      <th></th>\n",
       "    </tr>\n",
       "  </thead>\n",
       "  <tbody>\n",
       "    <tr>\n",
       "      <th rowspan=\"4\" valign=\"top\">1</th>\n",
       "      <th>0</th>\n",
       "      <td>49.0</td>\n",
       "      <td>48.0</td>\n",
       "      <td>1.0</td>\n",
       "      <td>97.959184</td>\n",
       "    </tr>\n",
       "    <tr>\n",
       "      <th>1</th>\n",
       "      <td>40.0</td>\n",
       "      <td>38.0</td>\n",
       "      <td>2.0</td>\n",
       "      <td>95.000000</td>\n",
       "    </tr>\n",
       "    <tr>\n",
       "      <th>2</th>\n",
       "      <td>3.0</td>\n",
       "      <td>3.0</td>\n",
       "      <td>0.0</td>\n",
       "      <td>100.000000</td>\n",
       "    </tr>\n",
       "    <tr>\n",
       "      <th>3</th>\n",
       "      <td>2.0</td>\n",
       "      <td>2.0</td>\n",
       "      <td>0.0</td>\n",
       "      <td>100.000000</td>\n",
       "    </tr>\n",
       "    <tr>\n",
       "      <th rowspan=\"4\" valign=\"top\">2</th>\n",
       "      <th>0</th>\n",
       "      <td>44.0</td>\n",
       "      <td>41.0</td>\n",
       "      <td>3.0</td>\n",
       "      <td>93.181818</td>\n",
       "    </tr>\n",
       "    <tr>\n",
       "      <th>1</th>\n",
       "      <td>28.0</td>\n",
       "      <td>25.0</td>\n",
       "      <td>3.0</td>\n",
       "      <td>89.285714</td>\n",
       "    </tr>\n",
       "    <tr>\n",
       "      <th>2</th>\n",
       "      <td>3.0</td>\n",
       "      <td>3.0</td>\n",
       "      <td>0.0</td>\n",
       "      <td>100.000000</td>\n",
       "    </tr>\n",
       "    <tr>\n",
       "      <th>3</th>\n",
       "      <td>1.0</td>\n",
       "      <td>1.0</td>\n",
       "      <td>0.0</td>\n",
       "      <td>100.000000</td>\n",
       "    </tr>\n",
       "    <tr>\n",
       "      <th rowspan=\"7\" valign=\"top\">3</th>\n",
       "      <th>0</th>\n",
       "      <td>81.0</td>\n",
       "      <td>48.0</td>\n",
       "      <td>33.0</td>\n",
       "      <td>59.259259</td>\n",
       "    </tr>\n",
       "    <tr>\n",
       "      <th>1</th>\n",
       "      <td>38.0</td>\n",
       "      <td>17.0</td>\n",
       "      <td>21.0</td>\n",
       "      <td>44.736842</td>\n",
       "    </tr>\n",
       "    <tr>\n",
       "      <th>2</th>\n",
       "      <td>7.0</td>\n",
       "      <td>4.0</td>\n",
       "      <td>3.0</td>\n",
       "      <td>57.142857</td>\n",
       "    </tr>\n",
       "    <tr>\n",
       "      <th>3</th>\n",
       "      <td>8.0</td>\n",
       "      <td>1.0</td>\n",
       "      <td>7.0</td>\n",
       "      <td>12.500000</td>\n",
       "    </tr>\n",
       "    <tr>\n",
       "      <th>4</th>\n",
       "      <td>6.0</td>\n",
       "      <td>2.0</td>\n",
       "      <td>4.0</td>\n",
       "      <td>33.333333</td>\n",
       "    </tr>\n",
       "    <tr>\n",
       "      <th>5</th>\n",
       "      <td>1.0</td>\n",
       "      <td>0.0</td>\n",
       "      <td>1.0</td>\n",
       "      <td>0.000000</td>\n",
       "    </tr>\n",
       "    <tr>\n",
       "      <th>8</th>\n",
       "      <td>3.0</td>\n",
       "      <td>0.0</td>\n",
       "      <td>3.0</td>\n",
       "      <td>0.000000</td>\n",
       "    </tr>\n",
       "  </tbody>\n",
       "</table>\n",
       "</div>"
      ],
      "text/plain": [
       "              total number  number survived  number died  percent survived\n",
       "Pclass SibSp                                                              \n",
       "1      0              49.0             48.0          1.0         97.959184\n",
       "       1              40.0             38.0          2.0         95.000000\n",
       "       2               3.0              3.0          0.0        100.000000\n",
       "       3               2.0              2.0          0.0        100.000000\n",
       "2      0              44.0             41.0          3.0         93.181818\n",
       "       1              28.0             25.0          3.0         89.285714\n",
       "       2               3.0              3.0          0.0        100.000000\n",
       "       3               1.0              1.0          0.0        100.000000\n",
       "3      0              81.0             48.0         33.0         59.259259\n",
       "       1              38.0             17.0         21.0         44.736842\n",
       "       2               7.0              4.0          3.0         57.142857\n",
       "       3               8.0              1.0          7.0         12.500000\n",
       "       4               6.0              2.0          4.0         33.333333\n",
       "       5               1.0              0.0          1.0          0.000000\n",
       "       8               3.0              0.0          3.0          0.000000"
      ]
     },
     "execution_count": 30,
     "metadata": {},
     "output_type": "execute_result"
    }
   ],
   "source": [
    "# Number of siblings or spouses\n",
    "women_sibsp_survival_rate = titanic_df.loc[titanic_df['is_male']==0].groupby(['Pclass','SibSp']).apply(survival_rate)\n",
    "women_sibsp_survival_rate"
   ]
  },
  {
   "cell_type": "code",
   "execution_count": 31,
   "metadata": {
    "collapsed": false
   },
   "outputs": [
    {
     "data": {
      "text/html": [
       "<div>\n",
       "<table border=\"1\" class=\"dataframe\">\n",
       "  <thead>\n",
       "    <tr style=\"text-align: right;\">\n",
       "      <th></th>\n",
       "      <th></th>\n",
       "      <th>total number</th>\n",
       "      <th>number survived</th>\n",
       "      <th>number died</th>\n",
       "      <th>percent survived</th>\n",
       "    </tr>\n",
       "    <tr>\n",
       "      <th>Pclass</th>\n",
       "      <th>Parch</th>\n",
       "      <th></th>\n",
       "      <th></th>\n",
       "      <th></th>\n",
       "      <th></th>\n",
       "    </tr>\n",
       "  </thead>\n",
       "  <tbody>\n",
       "    <tr>\n",
       "      <th rowspan=\"3\" valign=\"top\">1</th>\n",
       "      <th>0</th>\n",
       "      <td>64.0</td>\n",
       "      <td>63.0</td>\n",
       "      <td>1.0</td>\n",
       "      <td>98.437500</td>\n",
       "    </tr>\n",
       "    <tr>\n",
       "      <th>1</th>\n",
       "      <td>17.0</td>\n",
       "      <td>17.0</td>\n",
       "      <td>0.0</td>\n",
       "      <td>100.000000</td>\n",
       "    </tr>\n",
       "    <tr>\n",
       "      <th>2</th>\n",
       "      <td>13.0</td>\n",
       "      <td>11.0</td>\n",
       "      <td>2.0</td>\n",
       "      <td>84.615385</td>\n",
       "    </tr>\n",
       "    <tr>\n",
       "      <th rowspan=\"4\" valign=\"top\">2</th>\n",
       "      <th>0</th>\n",
       "      <td>45.0</td>\n",
       "      <td>40.0</td>\n",
       "      <td>5.0</td>\n",
       "      <td>88.888889</td>\n",
       "    </tr>\n",
       "    <tr>\n",
       "      <th>1</th>\n",
       "      <td>18.0</td>\n",
       "      <td>17.0</td>\n",
       "      <td>1.0</td>\n",
       "      <td>94.444444</td>\n",
       "    </tr>\n",
       "    <tr>\n",
       "      <th>2</th>\n",
       "      <td>11.0</td>\n",
       "      <td>11.0</td>\n",
       "      <td>0.0</td>\n",
       "      <td>100.000000</td>\n",
       "    </tr>\n",
       "    <tr>\n",
       "      <th>3</th>\n",
       "      <td>2.0</td>\n",
       "      <td>2.0</td>\n",
       "      <td>0.0</td>\n",
       "      <td>100.000000</td>\n",
       "    </tr>\n",
       "    <tr>\n",
       "      <th rowspan=\"7\" valign=\"top\">3</th>\n",
       "      <th>0</th>\n",
       "      <td>85.0</td>\n",
       "      <td>50.0</td>\n",
       "      <td>35.0</td>\n",
       "      <td>58.823529</td>\n",
       "    </tr>\n",
       "    <tr>\n",
       "      <th>1</th>\n",
       "      <td>25.0</td>\n",
       "      <td>12.0</td>\n",
       "      <td>13.0</td>\n",
       "      <td>48.000000</td>\n",
       "    </tr>\n",
       "    <tr>\n",
       "      <th>2</th>\n",
       "      <td>25.0</td>\n",
       "      <td>8.0</td>\n",
       "      <td>17.0</td>\n",
       "      <td>32.000000</td>\n",
       "    </tr>\n",
       "    <tr>\n",
       "      <th>3</th>\n",
       "      <td>2.0</td>\n",
       "      <td>1.0</td>\n",
       "      <td>1.0</td>\n",
       "      <td>50.000000</td>\n",
       "    </tr>\n",
       "    <tr>\n",
       "      <th>4</th>\n",
       "      <td>2.0</td>\n",
       "      <td>0.0</td>\n",
       "      <td>2.0</td>\n",
       "      <td>0.000000</td>\n",
       "    </tr>\n",
       "    <tr>\n",
       "      <th>5</th>\n",
       "      <td>4.0</td>\n",
       "      <td>1.0</td>\n",
       "      <td>3.0</td>\n",
       "      <td>25.000000</td>\n",
       "    </tr>\n",
       "    <tr>\n",
       "      <th>6</th>\n",
       "      <td>1.0</td>\n",
       "      <td>0.0</td>\n",
       "      <td>1.0</td>\n",
       "      <td>0.000000</td>\n",
       "    </tr>\n",
       "  </tbody>\n",
       "</table>\n",
       "</div>"
      ],
      "text/plain": [
       "              total number  number survived  number died  percent survived\n",
       "Pclass Parch                                                              \n",
       "1      0              64.0             63.0          1.0         98.437500\n",
       "       1              17.0             17.0          0.0        100.000000\n",
       "       2              13.0             11.0          2.0         84.615385\n",
       "2      0              45.0             40.0          5.0         88.888889\n",
       "       1              18.0             17.0          1.0         94.444444\n",
       "       2              11.0             11.0          0.0        100.000000\n",
       "       3               2.0              2.0          0.0        100.000000\n",
       "3      0              85.0             50.0         35.0         58.823529\n",
       "       1              25.0             12.0         13.0         48.000000\n",
       "       2              25.0              8.0         17.0         32.000000\n",
       "       3               2.0              1.0          1.0         50.000000\n",
       "       4               2.0              0.0          2.0          0.000000\n",
       "       5               4.0              1.0          3.0         25.000000\n",
       "       6               1.0              0.0          1.0          0.000000"
      ]
     },
     "execution_count": 31,
     "metadata": {},
     "output_type": "execute_result"
    }
   ],
   "source": [
    "# number of parents or children\n",
    "women_parch_survival_rate = titanic_df.loc[titanic_df['is_male']==0].groupby(['Pclass','Parch']).apply(survival_rate)\n",
    "women_parch_survival_rate"
   ]
  },
  {
   "cell_type": "markdown",
   "metadata": {},
   "source": [
    "The results suggest that the number of family members did not impact the survival of 1st and 2nd class women. However, traveling alone may have increased chances of survival for 3rd class women."
   ]
  },
  {
   "cell_type": "markdown",
   "metadata": {},
   "source": [
    "#### How did the number of family members impact men?"
   ]
  },
  {
   "cell_type": "code",
   "execution_count": 32,
   "metadata": {
    "collapsed": false
   },
   "outputs": [
    {
     "data": {
      "text/html": [
       "<div>\n",
       "<table border=\"1\" class=\"dataframe\">\n",
       "  <thead>\n",
       "    <tr style=\"text-align: right;\">\n",
       "      <th></th>\n",
       "      <th></th>\n",
       "      <th>total number</th>\n",
       "      <th>number survived</th>\n",
       "      <th>number died</th>\n",
       "      <th>percent survived</th>\n",
       "    </tr>\n",
       "    <tr>\n",
       "      <th>Pclass</th>\n",
       "      <th>SibSp</th>\n",
       "      <th></th>\n",
       "      <th></th>\n",
       "      <th></th>\n",
       "      <th></th>\n",
       "    </tr>\n",
       "  </thead>\n",
       "  <tbody>\n",
       "    <tr>\n",
       "      <th rowspan=\"4\" valign=\"top\">1</th>\n",
       "      <th>0</th>\n",
       "      <td>88.0</td>\n",
       "      <td>29.0</td>\n",
       "      <td>59.0</td>\n",
       "      <td>32.954545</td>\n",
       "    </tr>\n",
       "    <tr>\n",
       "      <th>1</th>\n",
       "      <td>31.0</td>\n",
       "      <td>15.0</td>\n",
       "      <td>16.0</td>\n",
       "      <td>48.387097</td>\n",
       "    </tr>\n",
       "    <tr>\n",
       "      <th>2</th>\n",
       "      <td>2.0</td>\n",
       "      <td>1.0</td>\n",
       "      <td>1.0</td>\n",
       "      <td>50.000000</td>\n",
       "    </tr>\n",
       "    <tr>\n",
       "      <th>3</th>\n",
       "      <td>1.0</td>\n",
       "      <td>0.0</td>\n",
       "      <td>1.0</td>\n",
       "      <td>0.000000</td>\n",
       "    </tr>\n",
       "    <tr>\n",
       "      <th rowspan=\"3\" valign=\"top\">2</th>\n",
       "      <th>0</th>\n",
       "      <td>76.0</td>\n",
       "      <td>9.0</td>\n",
       "      <td>67.0</td>\n",
       "      <td>11.842105</td>\n",
       "    </tr>\n",
       "    <tr>\n",
       "      <th>1</th>\n",
       "      <td>27.0</td>\n",
       "      <td>7.0</td>\n",
       "      <td>20.0</td>\n",
       "      <td>25.925926</td>\n",
       "    </tr>\n",
       "    <tr>\n",
       "      <th>2</th>\n",
       "      <td>5.0</td>\n",
       "      <td>1.0</td>\n",
       "      <td>4.0</td>\n",
       "      <td>20.000000</td>\n",
       "    </tr>\n",
       "    <tr>\n",
       "      <th rowspan=\"7\" valign=\"top\">3</th>\n",
       "      <th>0</th>\n",
       "      <td>270.0</td>\n",
       "      <td>35.0</td>\n",
       "      <td>235.0</td>\n",
       "      <td>12.962963</td>\n",
       "    </tr>\n",
       "    <tr>\n",
       "      <th>1</th>\n",
       "      <td>45.0</td>\n",
       "      <td>10.0</td>\n",
       "      <td>35.0</td>\n",
       "      <td>22.222222</td>\n",
       "    </tr>\n",
       "    <tr>\n",
       "      <th>2</th>\n",
       "      <td>8.0</td>\n",
       "      <td>1.0</td>\n",
       "      <td>7.0</td>\n",
       "      <td>12.500000</td>\n",
       "    </tr>\n",
       "    <tr>\n",
       "      <th>3</th>\n",
       "      <td>4.0</td>\n",
       "      <td>0.0</td>\n",
       "      <td>4.0</td>\n",
       "      <td>0.000000</td>\n",
       "    </tr>\n",
       "    <tr>\n",
       "      <th>4</th>\n",
       "      <td>12.0</td>\n",
       "      <td>1.0</td>\n",
       "      <td>11.0</td>\n",
       "      <td>8.333333</td>\n",
       "    </tr>\n",
       "    <tr>\n",
       "      <th>5</th>\n",
       "      <td>4.0</td>\n",
       "      <td>0.0</td>\n",
       "      <td>4.0</td>\n",
       "      <td>0.000000</td>\n",
       "    </tr>\n",
       "    <tr>\n",
       "      <th>8</th>\n",
       "      <td>4.0</td>\n",
       "      <td>0.0</td>\n",
       "      <td>4.0</td>\n",
       "      <td>0.000000</td>\n",
       "    </tr>\n",
       "  </tbody>\n",
       "</table>\n",
       "</div>"
      ],
      "text/plain": [
       "              total number  number survived  number died  percent survived\n",
       "Pclass SibSp                                                              \n",
       "1      0              88.0             29.0         59.0         32.954545\n",
       "       1              31.0             15.0         16.0         48.387097\n",
       "       2               2.0              1.0          1.0         50.000000\n",
       "       3               1.0              0.0          1.0          0.000000\n",
       "2      0              76.0              9.0         67.0         11.842105\n",
       "       1              27.0              7.0         20.0         25.925926\n",
       "       2               5.0              1.0          4.0         20.000000\n",
       "3      0             270.0             35.0        235.0         12.962963\n",
       "       1              45.0             10.0         35.0         22.222222\n",
       "       2               8.0              1.0          7.0         12.500000\n",
       "       3               4.0              0.0          4.0          0.000000\n",
       "       4              12.0              1.0         11.0          8.333333\n",
       "       5               4.0              0.0          4.0          0.000000\n",
       "       8               4.0              0.0          4.0          0.000000"
      ]
     },
     "execution_count": 32,
     "metadata": {},
     "output_type": "execute_result"
    }
   ],
   "source": [
    "men_sibsp_survival_rate = titanic_df.loc[titanic_df['is_male']==1].groupby(['Pclass','SibSp']).apply(survival_rate)\n",
    "men_sibsp_survival_rate"
   ]
  },
  {
   "cell_type": "code",
   "execution_count": 33,
   "metadata": {
    "collapsed": false
   },
   "outputs": [
    {
     "data": {
      "text/html": [
       "<div>\n",
       "<table border=\"1\" class=\"dataframe\">\n",
       "  <thead>\n",
       "    <tr style=\"text-align: right;\">\n",
       "      <th></th>\n",
       "      <th></th>\n",
       "      <th>total number</th>\n",
       "      <th>number survived</th>\n",
       "      <th>number died</th>\n",
       "      <th>percent survived</th>\n",
       "    </tr>\n",
       "    <tr>\n",
       "      <th>Pclass</th>\n",
       "      <th>Parch</th>\n",
       "      <th></th>\n",
       "      <th></th>\n",
       "      <th></th>\n",
       "      <th></th>\n",
       "    </tr>\n",
       "  </thead>\n",
       "  <tbody>\n",
       "    <tr>\n",
       "      <th rowspan=\"4\" valign=\"top\">1</th>\n",
       "      <th>0</th>\n",
       "      <td>99.0</td>\n",
       "      <td>36.0</td>\n",
       "      <td>63.0</td>\n",
       "      <td>36.363636</td>\n",
       "    </tr>\n",
       "    <tr>\n",
       "      <th>1</th>\n",
       "      <td>14.0</td>\n",
       "      <td>4.0</td>\n",
       "      <td>10.0</td>\n",
       "      <td>28.571429</td>\n",
       "    </tr>\n",
       "    <tr>\n",
       "      <th>2</th>\n",
       "      <td>8.0</td>\n",
       "      <td>5.0</td>\n",
       "      <td>3.0</td>\n",
       "      <td>62.500000</td>\n",
       "    </tr>\n",
       "    <tr>\n",
       "      <th>4</th>\n",
       "      <td>1.0</td>\n",
       "      <td>0.0</td>\n",
       "      <td>1.0</td>\n",
       "      <td>0.000000</td>\n",
       "    </tr>\n",
       "    <tr>\n",
       "      <th rowspan=\"3\" valign=\"top\">2</th>\n",
       "      <th>0</th>\n",
       "      <td>89.0</td>\n",
       "      <td>8.0</td>\n",
       "      <td>81.0</td>\n",
       "      <td>8.988764</td>\n",
       "    </tr>\n",
       "    <tr>\n",
       "      <th>1</th>\n",
       "      <td>14.0</td>\n",
       "      <td>7.0</td>\n",
       "      <td>7.0</td>\n",
       "      <td>50.000000</td>\n",
       "    </tr>\n",
       "    <tr>\n",
       "      <th>2</th>\n",
       "      <td>5.0</td>\n",
       "      <td>2.0</td>\n",
       "      <td>3.0</td>\n",
       "      <td>40.000000</td>\n",
       "    </tr>\n",
       "    <tr>\n",
       "      <th rowspan=\"6\" valign=\"top\">3</th>\n",
       "      <th>0</th>\n",
       "      <td>296.0</td>\n",
       "      <td>36.0</td>\n",
       "      <td>260.0</td>\n",
       "      <td>12.162162</td>\n",
       "    </tr>\n",
       "    <tr>\n",
       "      <th>1</th>\n",
       "      <td>30.0</td>\n",
       "      <td>8.0</td>\n",
       "      <td>22.0</td>\n",
       "      <td>26.666667</td>\n",
       "    </tr>\n",
       "    <tr>\n",
       "      <th>2</th>\n",
       "      <td>18.0</td>\n",
       "      <td>3.0</td>\n",
       "      <td>15.0</td>\n",
       "      <td>16.666667</td>\n",
       "    </tr>\n",
       "    <tr>\n",
       "      <th>3</th>\n",
       "      <td>1.0</td>\n",
       "      <td>0.0</td>\n",
       "      <td>1.0</td>\n",
       "      <td>0.000000</td>\n",
       "    </tr>\n",
       "    <tr>\n",
       "      <th>4</th>\n",
       "      <td>1.0</td>\n",
       "      <td>0.0</td>\n",
       "      <td>1.0</td>\n",
       "      <td>0.000000</td>\n",
       "    </tr>\n",
       "    <tr>\n",
       "      <th>5</th>\n",
       "      <td>1.0</td>\n",
       "      <td>0.0</td>\n",
       "      <td>1.0</td>\n",
       "      <td>0.000000</td>\n",
       "    </tr>\n",
       "  </tbody>\n",
       "</table>\n",
       "</div>"
      ],
      "text/plain": [
       "              total number  number survived  number died  percent survived\n",
       "Pclass Parch                                                              \n",
       "1      0              99.0             36.0         63.0         36.363636\n",
       "       1              14.0              4.0         10.0         28.571429\n",
       "       2               8.0              5.0          3.0         62.500000\n",
       "       4               1.0              0.0          1.0          0.000000\n",
       "2      0              89.0              8.0         81.0          8.988764\n",
       "       1              14.0              7.0          7.0         50.000000\n",
       "       2               5.0              2.0          3.0         40.000000\n",
       "3      0             296.0             36.0        260.0         12.162162\n",
       "       1              30.0              8.0         22.0         26.666667\n",
       "       2              18.0              3.0         15.0         16.666667\n",
       "       3               1.0              0.0          1.0          0.000000\n",
       "       4               1.0              0.0          1.0          0.000000\n",
       "       5               1.0              0.0          1.0          0.000000"
      ]
     },
     "execution_count": 33,
     "metadata": {},
     "output_type": "execute_result"
    }
   ],
   "source": [
    "men_parch_survival_rate = titanic_df.loc[titanic_df['is_male']==1].groupby(['Pclass','Parch']).apply(survival_rate)\n",
    "men_parch_survival_rate"
   ]
  },
  {
   "cell_type": "markdown",
   "metadata": {},
   "source": [
    "The results above suggest the following:\n",
    "- Having exactly 1 sibling or spouse significantly increased chances of survival for men for all classes. \n",
    "- Having 1 parent or children increased chances for 2nd and 3rd class men, but not for 1st class men."
   ]
  },
  {
   "cell_type": "markdown",
   "metadata": {},
   "source": [
    "## Conclusions"
   ]
  },
  {
   "cell_type": "markdown",
   "metadata": {},
   "source": [
    "Gatekeepers, who prioritized women, children, and 1st class passengers, had considerable influence on who survived. We see their impact through the following:\n",
    "- Women comprised 68% of survivors, and 15% of non-survivors\n",
    "- Third class men comprised 14% of survivors and 55% of non-survivors\n",
    "- Nearly all 1st and 2nd class female passengers survived.\n",
    "- Nearly all 2nd and 3rd class male passengers died. \n",
    "- Lower class males under age 13 had better than 53% chance of survival, while all other lower class males had 11% chance of survival. \n",
    "\n",
    "However, each gatekeeper interpreted the captain's instructions differently and had a different level of skill in handling lifeboats. When individuals interacted with the right gatekeeper, they could significantly improve their chances:\n",
    "- 1st class men had 100% chance of survival if they were on the left side of deck D and less than 20% chance of survival if they were on the left side of deck C or the right side of deck D. \n",
    "\n",
    "Moreover, a significant number of lower class passengers and men managed to beat the odds and survive:\n",
    "- Lower class passengers and men were more likely to survive if they embarked at Cherbourg than at other ports. Cherbourg passengers were predominantly 1st class, and boarding the ship at the same time as 1st class passengers may have strengthened relationships and associations, which improved chances of survival.\n",
    "- Female 3rd class passengers may have improved their odds by traveling alone while having exactly 1 sibling or spouse significantly improved chances for survival for men for all classes. Family members on ship may have encouraged male passengers to be more assertive in getting onto life boats."
   ]
  }
 ],
 "metadata": {
  "anaconda-cloud": {},
  "kernelspec": {
   "display_name": "Python [conda env:DAND]",
   "language": "python",
   "name": "conda-env-DAND-py"
  },
  "language_info": {
   "codemirror_mode": {
    "name": "ipython",
    "version": 2
   },
   "file_extension": ".py",
   "mimetype": "text/x-python",
   "name": "python",
   "nbconvert_exporter": "python",
   "pygments_lexer": "ipython2",
   "version": "2.7.12"
  }
 },
 "nbformat": 4,
 "nbformat_minor": 2
}
